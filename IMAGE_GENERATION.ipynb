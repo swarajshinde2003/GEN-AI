{
 "cells": [
  {
   "cell_type": "markdown",
   "metadata": {},
   "source": [
    "FOR IMAGE GENERATION USING OPENAI GPT"
   ]
  },
  {
   "cell_type": "code",
   "execution_count": null,
   "metadata": {},
   "outputs": [],
   "source": [
    "from g4f.client import Client\n",
    "\n",
    "client = Client()\n",
    "response = client.images.generate(\n",
    "    model=\"flux\",\n",
    "    prompt=\"human excercise\",\n",
    "    response_format=\"url\"\n",
    ")\n",
    "\n",
    "print(f\"Generated image URL: {response.data[0].url}\")"
   ]
  }
 ],
 "metadata": {
  "language_info": {
   "name": "python"
  }
 },
 "nbformat": 4,
 "nbformat_minor": 2
}
